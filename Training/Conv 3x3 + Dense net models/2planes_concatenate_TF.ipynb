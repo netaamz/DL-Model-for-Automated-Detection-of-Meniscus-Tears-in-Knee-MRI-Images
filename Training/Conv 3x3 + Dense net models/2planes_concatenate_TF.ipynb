{
  "cells": [
    {
      "cell_type": "markdown",
      "id": "4c2b325d",
      "metadata": {
        "id": "4c2b325d"
      },
      "source": [
        "# Capstone: Development of an algorithm for automatic detection of meniscus tears in radiographic images of the knee."
      ]
    },
    {
      "cell_type": "code",
      "execution_count": 1,
      "id": "kO28c0f2NGLV",
      "metadata": {
        "id": "kO28c0f2NGLV"
      },
      "outputs": [],
      "source": [
        "import warnings\n",
        "warnings.filterwarnings(\"ignore\")\n"
      ]
    },
    {
      "cell_type": "code",
      "execution_count": 2,
      "id": "mQO1eiwrNKUu",
      "metadata": {
        "colab": {
          "base_uri": "https://localhost:8080/"
        },
        "id": "mQO1eiwrNKUu",
        "outputId": "407618a6-1f45-4d6e-c8f6-6eadd49bfbe2"
      },
      "outputs": [
        {
          "output_type": "stream",
          "name": "stdout",
          "text": [
            "Requirement already satisfied: tensorflow in /usr/local/lib/python3.10/dist-packages (2.15.0)\n",
            "Requirement already satisfied: absl-py>=1.0.0 in /usr/local/lib/python3.10/dist-packages (from tensorflow) (1.4.0)\n",
            "Requirement already satisfied: astunparse>=1.6.0 in /usr/local/lib/python3.10/dist-packages (from tensorflow) (1.6.3)\n",
            "Requirement already satisfied: flatbuffers>=23.5.26 in /usr/local/lib/python3.10/dist-packages (from tensorflow) (24.3.25)\n",
            "Requirement already satisfied: gast!=0.5.0,!=0.5.1,!=0.5.2,>=0.2.1 in /usr/local/lib/python3.10/dist-packages (from tensorflow) (0.6.0)\n",
            "Requirement already satisfied: google-pasta>=0.1.1 in /usr/local/lib/python3.10/dist-packages (from tensorflow) (0.2.0)\n",
            "Requirement already satisfied: h5py>=2.9.0 in /usr/local/lib/python3.10/dist-packages (from tensorflow) (3.11.0)\n",
            "Requirement already satisfied: libclang>=13.0.0 in /usr/local/lib/python3.10/dist-packages (from tensorflow) (18.1.1)\n",
            "Requirement already satisfied: ml-dtypes~=0.2.0 in /usr/local/lib/python3.10/dist-packages (from tensorflow) (0.2.0)\n",
            "Requirement already satisfied: numpy<2.0.0,>=1.23.5 in /usr/local/lib/python3.10/dist-packages (from tensorflow) (1.26.4)\n",
            "Requirement already satisfied: opt-einsum>=2.3.2 in /usr/local/lib/python3.10/dist-packages (from tensorflow) (3.3.0)\n",
            "Requirement already satisfied: packaging in /usr/local/lib/python3.10/dist-packages (from tensorflow) (24.1)\n",
            "Requirement already satisfied: protobuf!=4.21.0,!=4.21.1,!=4.21.2,!=4.21.3,!=4.21.4,!=4.21.5,<5.0.0dev,>=3.20.3 in /usr/local/lib/python3.10/dist-packages (from tensorflow) (3.20.3)\n",
            "Requirement already satisfied: setuptools in /usr/local/lib/python3.10/dist-packages (from tensorflow) (71.0.4)\n",
            "Requirement already satisfied: six>=1.12.0 in /usr/local/lib/python3.10/dist-packages (from tensorflow) (1.16.0)\n",
            "Requirement already satisfied: termcolor>=1.1.0 in /usr/local/lib/python3.10/dist-packages (from tensorflow) (2.4.0)\n",
            "Requirement already satisfied: typing-extensions>=3.6.6 in /usr/local/lib/python3.10/dist-packages (from tensorflow) (4.12.2)\n",
            "Requirement already satisfied: wrapt<1.15,>=1.11.0 in /usr/local/lib/python3.10/dist-packages (from tensorflow) (1.14.1)\n",
            "Requirement already satisfied: tensorflow-io-gcs-filesystem>=0.23.1 in /usr/local/lib/python3.10/dist-packages (from tensorflow) (0.37.1)\n",
            "Requirement already satisfied: grpcio<2.0,>=1.24.3 in /usr/local/lib/python3.10/dist-packages (from tensorflow) (1.66.1)\n",
            "Requirement already satisfied: tensorboard<2.16,>=2.15 in /usr/local/lib/python3.10/dist-packages (from tensorflow) (2.15.2)\n",
            "Requirement already satisfied: tensorflow-estimator<2.16,>=2.15.0 in /usr/local/lib/python3.10/dist-packages (from tensorflow) (2.15.0)\n",
            "Requirement already satisfied: keras<2.16,>=2.15.0 in /usr/local/lib/python3.10/dist-packages (from tensorflow) (2.15.0)\n",
            "Requirement already satisfied: wheel<1.0,>=0.23.0 in /usr/local/lib/python3.10/dist-packages (from astunparse>=1.6.0->tensorflow) (0.44.0)\n",
            "Requirement already satisfied: google-auth<3,>=1.6.3 in /usr/local/lib/python3.10/dist-packages (from tensorboard<2.16,>=2.15->tensorflow) (2.27.0)\n",
            "Requirement already satisfied: google-auth-oauthlib<2,>=0.5 in /usr/local/lib/python3.10/dist-packages (from tensorboard<2.16,>=2.15->tensorflow) (1.2.1)\n",
            "Requirement already satisfied: markdown>=2.6.8 in /usr/local/lib/python3.10/dist-packages (from tensorboard<2.16,>=2.15->tensorflow) (3.7)\n",
            "Requirement already satisfied: requests<3,>=2.21.0 in /usr/local/lib/python3.10/dist-packages (from tensorboard<2.16,>=2.15->tensorflow) (2.32.3)\n",
            "Requirement already satisfied: tensorboard-data-server<0.8.0,>=0.7.0 in /usr/local/lib/python3.10/dist-packages (from tensorboard<2.16,>=2.15->tensorflow) (0.7.2)\n",
            "Requirement already satisfied: werkzeug>=1.0.1 in /usr/local/lib/python3.10/dist-packages (from tensorboard<2.16,>=2.15->tensorflow) (3.0.4)\n",
            "Requirement already satisfied: cachetools<6.0,>=2.0.0 in /usr/local/lib/python3.10/dist-packages (from google-auth<3,>=1.6.3->tensorboard<2.16,>=2.15->tensorflow) (5.5.0)\n",
            "Requirement already satisfied: pyasn1-modules>=0.2.1 in /usr/local/lib/python3.10/dist-packages (from google-auth<3,>=1.6.3->tensorboard<2.16,>=2.15->tensorflow) (0.4.1)\n",
            "Requirement already satisfied: rsa<5,>=3.1.4 in /usr/local/lib/python3.10/dist-packages (from google-auth<3,>=1.6.3->tensorboard<2.16,>=2.15->tensorflow) (4.9)\n",
            "Requirement already satisfied: requests-oauthlib>=0.7.0 in /usr/local/lib/python3.10/dist-packages (from google-auth-oauthlib<2,>=0.5->tensorboard<2.16,>=2.15->tensorflow) (2.0.0)\n",
            "Requirement already satisfied: charset-normalizer<4,>=2 in /usr/local/lib/python3.10/dist-packages (from requests<3,>=2.21.0->tensorboard<2.16,>=2.15->tensorflow) (3.3.2)\n",
            "Requirement already satisfied: idna<4,>=2.5 in /usr/local/lib/python3.10/dist-packages (from requests<3,>=2.21.0->tensorboard<2.16,>=2.15->tensorflow) (3.10)\n",
            "Requirement already satisfied: urllib3<3,>=1.21.1 in /usr/local/lib/python3.10/dist-packages (from requests<3,>=2.21.0->tensorboard<2.16,>=2.15->tensorflow) (2.2.3)\n",
            "Requirement already satisfied: certifi>=2017.4.17 in /usr/local/lib/python3.10/dist-packages (from requests<3,>=2.21.0->tensorboard<2.16,>=2.15->tensorflow) (2024.8.30)\n",
            "Requirement already satisfied: MarkupSafe>=2.1.1 in /usr/local/lib/python3.10/dist-packages (from werkzeug>=1.0.1->tensorboard<2.16,>=2.15->tensorflow) (2.1.5)\n",
            "Requirement already satisfied: pyasn1<0.7.0,>=0.4.6 in /usr/local/lib/python3.10/dist-packages (from pyasn1-modules>=0.2.1->google-auth<3,>=1.6.3->tensorboard<2.16,>=2.15->tensorflow) (0.6.1)\n",
            "Requirement already satisfied: oauthlib>=3.0.0 in /usr/local/lib/python3.10/dist-packages (from requests-oauthlib>=0.7.0->google-auth-oauthlib<2,>=0.5->tensorboard<2.16,>=2.15->tensorflow) (3.2.2)\n",
            "Requirement already satisfied: keras in /usr/local/lib/python3.10/dist-packages (2.15.0)\n",
            "Collecting sklearn\n",
            "  Downloading sklearn-0.0.post12.tar.gz (2.6 kB)\n",
            "  \u001b[1;31merror\u001b[0m: \u001b[1msubprocess-exited-with-error\u001b[0m\n",
            "  \n",
            "  \u001b[31m×\u001b[0m \u001b[32mpython setup.py egg_info\u001b[0m did not run successfully.\n",
            "  \u001b[31m│\u001b[0m exit code: \u001b[1;36m1\u001b[0m\n",
            "  \u001b[31m╰─>\u001b[0m See above for output.\n",
            "  \n",
            "  \u001b[1;35mnote\u001b[0m: This error originates from a subprocess, and is likely not a problem with pip.\n",
            "  Preparing metadata (setup.py) ... \u001b[?25l\u001b[?25herror\n",
            "\u001b[1;31merror\u001b[0m: \u001b[1mmetadata-generation-failed\u001b[0m\n",
            "\n",
            "\u001b[31m×\u001b[0m Encountered error while generating package metadata.\n",
            "\u001b[31m╰─>\u001b[0m See above for output.\n",
            "\n",
            "\u001b[1;35mnote\u001b[0m: This is an issue with the package mentioned above, not pip.\n",
            "\u001b[1;36mhint\u001b[0m: See above for details.\n",
            "Requirement already satisfied: opencv-python in /usr/local/lib/python3.10/dist-packages (4.10.0.84)\n",
            "Requirement already satisfied: numpy>=1.21.2 in /usr/local/lib/python3.10/dist-packages (from opencv-python) (1.26.4)\n",
            "Requirement already satisfied: matplotlib in /usr/local/lib/python3.10/dist-packages (3.7.1)\n",
            "Requirement already satisfied: contourpy>=1.0.1 in /usr/local/lib/python3.10/dist-packages (from matplotlib) (1.3.0)\n",
            "Requirement already satisfied: cycler>=0.10 in /usr/local/lib/python3.10/dist-packages (from matplotlib) (0.12.1)\n",
            "Requirement already satisfied: fonttools>=4.22.0 in /usr/local/lib/python3.10/dist-packages (from matplotlib) (4.53.1)\n",
            "Requirement already satisfied: kiwisolver>=1.0.1 in /usr/local/lib/python3.10/dist-packages (from matplotlib) (1.4.7)\n",
            "Requirement already satisfied: numpy>=1.20 in /usr/local/lib/python3.10/dist-packages (from matplotlib) (1.26.4)\n",
            "Requirement already satisfied: packaging>=20.0 in /usr/local/lib/python3.10/dist-packages (from matplotlib) (24.1)\n",
            "Requirement already satisfied: pillow>=6.2.0 in /usr/local/lib/python3.10/dist-packages (from matplotlib) (10.4.0)\n",
            "Requirement already satisfied: pyparsing>=2.3.1 in /usr/local/lib/python3.10/dist-packages (from matplotlib) (3.1.4)\n",
            "Requirement already satisfied: python-dateutil>=2.7 in /usr/local/lib/python3.10/dist-packages (from matplotlib) (2.9.0.post0)\n",
            "Requirement already satisfied: six>=1.5 in /usr/local/lib/python3.10/dist-packages (from python-dateutil>=2.7->matplotlib) (1.16.0)\n",
            "Requirement already satisfied: numpy in /usr/local/lib/python3.10/dist-packages (1.26.4)\n"
          ]
        }
      ],
      "source": [
        "!pip install tensorflow\n",
        "!pip install keras\n",
        "!pip install sklearn\n",
        "!pip install opencv-python\n",
        "!pip install matplotlib\n",
        "!pip install numpy"
      ]
    },
    {
      "cell_type": "markdown",
      "id": "a07d701a",
      "metadata": {
        "id": "a07d701a"
      },
      "source": [
        "## Data import"
      ]
    },
    {
      "cell_type": "markdown",
      "id": "64823312",
      "metadata": {
        "id": "64823312"
      },
      "source": [
        "**import data and get labels**"
      ]
    },
    {
      "cell_type": "code",
      "execution_count": 4,
      "id": "PeDdBvtZBJrW",
      "metadata": {
        "colab": {
          "base_uri": "https://localhost:8080/"
        },
        "id": "PeDdBvtZBJrW",
        "outputId": "a98bf483-d82e-44fe-af2e-ae1c08f2c7e0"
      },
      "outputs": [
        {
          "output_type": "stream",
          "name": "stdout",
          "text": [
            "Mounted at /content/drive\n"
          ]
        }
      ],
      "source": [
        "from google.colab import drive\n",
        "drive.mount('/content/drive')"
      ]
    },
    {
      "cell_type": "markdown",
      "id": "caab6116",
      "metadata": {
        "id": "caab6116"
      },
      "source": [
        "## **data generation for meniscus**"
      ]
    },
    {
      "cell_type": "code",
      "execution_count": 5,
      "id": "eb0bdc7d",
      "metadata": {
        "id": "eb0bdc7d"
      },
      "outputs": [],
      "source": [
        "import numpy as np\n",
        "import pandas as pd\n",
        "pd.options.mode.chained_assignment = None  # default='warn'\n",
        "def data_gen(dataset_type,path, plane, diagnosis):\n",
        "    '''this function gets the data from the extracted datset'''\n",
        "\n",
        "    if dataset_type == 'train':\n",
        "        go = '/content/drive/My Drive/miniscus data set/MRNet-v1.0/train_transform17d' # if we want without filter then:  /content/drive/My Drive/miniscus data set/MRNet-v1.0/train_transform\n",
        "    else:\n",
        "        go = '/content/drive/My Drive/miniscus data set/MRNet-v1.0/valid_transform17d' # if we want without filter then: /content/drive/My Drive/miniscus data set/MRNet-v1.0/valid_transform\n",
        "\n",
        "    plane_dir = f'{go}/{plane}.npy'\n",
        "\n",
        "    data = np.load(plane_dir)\n",
        "    label_path = f'/content/drive/My Drive/miniscus data set/MRNet-v1.0/{dataset_type}-{diagnosis}.csv'\n",
        "\n",
        "    label_df = pd.read_csv(label_path, names=['nr', diagnosis])\n",
        "    label_data = list(label_df[diagnosis])\n",
        "\n",
        "    return(data, label_data)\n"
      ]
    },
    {
      "cell_type": "code",
      "execution_count": 6,
      "id": "b1550b3f",
      "metadata": {
        "colab": {
          "base_uri": "https://localhost:8080/"
        },
        "id": "b1550b3f",
        "outputId": "fb75c7bc-7aec-4251-9b54-e3a57400a03e"
      },
      "outputs": [
        {
          "output_type": "stream",
          "name": "stdout",
          "text": [
            "(1130, 17, 256, 256)\n",
            "(120, 17, 256, 256)\n"
          ]
        }
      ],
      "source": [
        "# generate training input\n",
        "BASE_PATH = \"/content/drive/My Drive/miniscus data set/MRNet-v1.0/\"\n",
        "\n",
        "coronal_mensicus, coronal_mensicus_label = data_gen('train',BASE_PATH, 'coronal/extracted_images', 'meniscus')\n",
        "sagittal_mensicus, sagittal_mensicus_label = data_gen('train',BASE_PATH, 'sagittal/extracted_images', 'meniscus')\n",
        "print(sagittal_mensicus.shape)\n",
        "# generate validation\n",
        "coronal_mensicus_val, coronal_mensicus_label_val  = data_gen('valid',BASE_PATH, 'coronal/extracted_images', 'meniscus')\n",
        "sagittal_mensicus_val, sagittal_mensicus_label_val  = data_gen('valid',BASE_PATH, 'sagittal/extracted_images', 'meniscus')\n",
        "\n",
        "print(coronal_mensicus_val.shape)"
      ]
    },
    {
      "cell_type": "code",
      "source": [
        " # Assuming axial_mensicus, coronal_mensicus, and sagittal_mensicus are your input arrays\n",
        "# Reshape your data to add the channel dimension\n",
        "coronal_mensicus = coronal_mensicus.reshape(-1, IMAGE_DEPTH, IMAGE_SIZE, IMAGE_SIZE)\n",
        "sagittal_mensicus = sagittal_mensicus.reshape(-1, IMAGE_DEPTH, IMAGE_SIZE, IMAGE_SIZE)\n",
        "coronal_mensicus_val = coronal_mensicus_val.reshape(-1, IMAGE_DEPTH, IMAGE_SIZE, IMAGE_SIZE)\n",
        "sagittal_mensicus_val = sagittal_mensicus_val.reshape(-1, IMAGE_DEPTH, IMAGE_SIZE, IMAGE_SIZE)\n"
      ],
      "metadata": {
        "id": "Wj9jh50Wn-mD"
      },
      "id": "Wj9jh50Wn-mD",
      "execution_count": 7,
      "outputs": []
    },
    {
      "cell_type": "code",
      "source": [
        "# Assuming mensicus_label is initially a list, convert it to a NumPy array\n",
        "coronal_mensicus_label = np.array(coronal_mensicus_label)\n",
        "sagittal_mensicus_label = np.array(sagittal_mensicus_label)\n"
      ],
      "metadata": {
        "id": "iKCHTELROkTT"
      },
      "id": "iKCHTELROkTT",
      "execution_count": 8,
      "outputs": []
    },
    {
      "cell_type": "code",
      "execution_count": 9,
      "id": "Vqan-iQvHHob",
      "metadata": {
        "id": "Vqan-iQvHHob"
      },
      "outputs": [],
      "source": [
        "\n",
        "from sklearn.metrics import log_loss\n",
        "import numpy as np\n",
        "import os\n",
        "import keras\n",
        "import random\n",
        "import cv2\n",
        "import math\n",
        "import seaborn as sns\n",
        "\n",
        "from sklearn.preprocessing import LabelBinarizer\n",
        "from sklearn.model_selection import train_test_split"
      ]
    },
    {
      "cell_type": "markdown",
      "id": "r-jw7JsC9hmh",
      "metadata": {
        "id": "r-jw7JsC9hmh"
      },
      "source": [
        "# Transfer Learning"
      ]
    },
    {
      "cell_type": "markdown",
      "id": "LuO5oNlojD8e",
      "metadata": {
        "id": "LuO5oNlojD8e"
      },
      "source": [
        "##  Hyperparameters"
      ]
    },
    {
      "cell_type": "code",
      "execution_count": 3,
      "id": "o9kPfwuvMQfx",
      "metadata": {
        "id": "o9kPfwuvMQfx"
      },
      "outputs": [],
      "source": [
        "# Define your parameters\n",
        "IMAGE_SIZE= 256  # Adjust based on your actual image dimensions\n",
        "IMAGE_DEPTH = 17\n",
        "NUM_CLASSES = 1\n",
        "CHANNELS = 1\n",
        "\n",
        "batch_size = 32\n",
        "nb_epoch = 50\n",
        "dropout = 0.4\n",
        "lr = 5e-4 # Learning rate"
      ]
    },
    {
      "cell_type": "markdown",
      "source": [
        "## Model Creation and training"
      ],
      "metadata": {
        "id": "03Ygq2SRtVyB"
      },
      "id": "03Ygq2SRtVyB"
    },
    {
      "cell_type": "code",
      "source": [
        "# Convert input data to float32 and print shapes to check\n",
        "coronal_mensicus = np.transpose(coronal_mensicus, (0, 2, 3, 1)).astype('float32')\n",
        "sagittal_mensicus = np.transpose(sagittal_mensicus, (0, 2, 3, 1)).astype('float32')\n",
        "coronal_mensicus_val = np.transpose(coronal_mensicus_val, (0, 2, 3, 1)).astype('float32')\n",
        "sagittal_mensicus_val = np.transpose(sagittal_mensicus_val, (0, 2, 3, 1)).astype('float32')"
      ],
      "metadata": {
        "id": "PKoLbsseHgXt"
      },
      "id": "PKoLbsseHgXt",
      "execution_count": 10,
      "outputs": []
    },
    {
      "cell_type": "code",
      "source": [
        "# Ensure that coronal_mensicus and sagittal_mensicus are NumPy arrays\n",
        "coronal_mensicus = np.asarray(coronal_mensicus)\n",
        "sagittal_mensicus = np.asarray(sagittal_mensicus)\n",
        "coronal_mensicus_val = np.asarray(coronal_mensicus_val)\n",
        "sagittal_mensicus_val = np.asarray(sagittal_mensicus_val)\n",
        "\n",
        "# Labels should also be NumPy arrays\n",
        "coronal_mensicus_label = np.asarray(coronal_mensicus_label)\n",
        "coronal_mensicus_label_val = np.asarray(coronal_mensicus_label_val)\n",
        "\n",
        "# Check shapes to ensure they're correct\n",
        "print(coronal_mensicus.shape)  # Should be (num_samples, 256, 256, 17)\n",
        "print(sagittal_mensicus.shape)  # Should be (num_samples, 256, 256, 17)\n",
        "print(coronal_mensicus_val.shape)\n",
        "print(sagittal_mensicus_val.shape)\n",
        "print(coronal_mensicus_label.shape)"
      ],
      "metadata": {
        "colab": {
          "base_uri": "https://localhost:8080/"
        },
        "id": "mt6GtQapT7Rq",
        "outputId": "b15c5f8e-63d6-487a-9e52-9ac1ebc42ea1"
      },
      "id": "mt6GtQapT7Rq",
      "execution_count": 11,
      "outputs": [
        {
          "output_type": "stream",
          "name": "stdout",
          "text": [
            "(1130, 256, 256, 17)\n",
            "(1130, 256, 256, 17)\n",
            "(120, 256, 256, 17)\n",
            "(120, 256, 256, 17)\n",
            "(1130,)\n"
          ]
        }
      ]
    },
    {
      "cell_type": "code",
      "source": [
        "import tensorflow as tf\n",
        "from tensorflow.keras.applications import DenseNet121\n",
        "from tensorflow.keras.models import Model\n",
        "from tensorflow.keras.layers import Dense, GlobalAveragePooling2D, Input, BatchNormalization, Dropout, Concatenate, MaxPooling1D, Reshape, Conv2D\n",
        "from tensorflow.keras.optimizers import SGD, schedules\n",
        "from tensorflow.keras.callbacks import ModelCheckpoint\n",
        "def create_model2(input_shape, NUM_CLASSES, dropout):\n",
        "\n",
        "\n",
        "    # Define input for each plane\n",
        "    input_coronal = Input(shape=input_shape, name='input_coronal')\n",
        "    input_sagittal = Input(shape=input_shape, name='input_sagittal')\n",
        "\n",
        "    # 1x1 Convolution to reduce depth from 17 to 1 for each plane\n",
        "    # conv_axial = Conv2D(filters=1, kernel_size=(1, 1), activation='relu', padding='same')(input_axial)\n",
        "    conv_coronal = Conv2D(filters=3, kernel_size=(3, 3), activation='relu', padding='same')(input_coronal)\n",
        "    conv_sagittal = Conv2D(filters=3, kernel_size=(3, 3), activation='relu', padding='same')(input_sagittal)\n",
        "\n",
        "    # Base DenseNet model for each plane (coronal, sagittal)\n",
        "    base_model = DenseNet121(weights='imagenet', include_top=False, pooling=None, input_shape=(256,256,3))\n",
        "\n",
        "    # Process each plane using the same base DenseNet model\n",
        "    # axial_output = base_model(conv_axial)\n",
        "    coronal_output = base_model(conv_coronal)\n",
        "    sagittal_output = base_model(conv_sagittal)\n",
        "\n",
        "    # Global Average Pooling for each plane\n",
        "    # axial_output = GlobalAveragePooling2D()(axial_output)\n",
        "    coronal_output = GlobalAveragePooling2D()(coronal_output)\n",
        "    sagittal_output = GlobalAveragePooling2D()(sagittal_output)\n",
        "\n",
        "    # Concatenate the outputs from all planes\n",
        "    # concatenated = Concatenate()([axial_output, coronal_output, sagittal_output])\n",
        "    concatenated = Concatenate()([coronal_output, sagittal_output])\n",
        "\n",
        "    # Dense and Dropout layers after concatenation\n",
        "    x = BatchNormalization()(concatenated)\n",
        "    x = Dropout(dropout)(x)\n",
        "    x = Dense(1024, activation='relu')(x)\n",
        "    x = Dropout(dropout)(x)\n",
        "    x = Dense(512, activation='relu')(x)\n",
        "\n",
        "    output = Dense(NUM_CLASSES, activation='sigmoid')(x)\n",
        "\n",
        "    # Create the final model\n",
        "    # model = Model(inputs=[input_axial, input_coronal, input_sagittal], outputs=output)\n",
        "    model = Model(inputs=[input_coronal, input_sagittal], outputs=output)\n",
        "\n",
        "    # Freeze the base model layers\n",
        "    for layer in base_model.layers:\n",
        "        layer.trainable = False\n",
        "\n",
        "    return model\n",
        "\n",
        "if __name__ == '__main__':\n",
        "    input_shape = (IMAGE_SIZE, IMAGE_SIZE, 17)\n",
        "    model = create_model2(input_shape, NUM_CLASSES, dropout)\n",
        "    #loss='binary_crossentropy'\n",
        "    # Compile the model\n",
        "    model.compile(optimizer=SGD(learning_rate=lr, momentum=0.9),\n",
        "                  loss='binary_crossentropy',\n",
        "                  metrics=['accuracy'])\n",
        "        # Set up the checkpoint\n",
        "    filepath = \"bestmodel.keras\"\n",
        "    checkpoint = ModelCheckpoint(filepath, monitor='val_accuracy', verbose=1, save_best_only=True, mode='max')\n",
        "    callbacks_list = [checkpoint]\n",
        "    # Train the model with axial, coronal, and sagittal planes\n",
        "    history = model.fit([coronal_mensicus, sagittal_mensicus],\n",
        "                        coronal_mensicus_label,\n",
        "                        batch_size=batch_size,\n",
        "                        epochs=nb_epoch,\n",
        "                        shuffle=True,\n",
        "                        verbose=1,\n",
        "                        validation_data=([coronal_mensicus_val, sagittal_mensicus_val], coronal_mensicus_label_val),\n",
        "                        callbacks=callbacks_list)\n",
        "\n",
        "\n"
      ],
      "metadata": {
        "id": "9kSk6ljX8-0H",
        "colab": {
          "base_uri": "https://localhost:8080/"
        },
        "outputId": "00be0f93-3286-4c5c-9bbf-6408e6de1de6"
      },
      "id": "9kSk6ljX8-0H",
      "execution_count": 12,
      "outputs": [
        {
          "output_type": "stream",
          "name": "stdout",
          "text": [
            "Downloading data from https://storage.googleapis.com/tensorflow/keras-applications/densenet/densenet121_weights_tf_dim_ordering_tf_kernels_notop.h5\n",
            "29084464/29084464 [==============================] - 0s 0us/step\n",
            "Epoch 1/50\n",
            "36/36 [==============================] - ETA: 0s - loss: 0.7306 - accuracy: 0.5788\n",
            "Epoch 1: val_accuracy improved from -inf to 0.53333, saving model to bestmodel.keras\n",
            "36/36 [==============================] - 194s 5s/step - loss: 0.7306 - accuracy: 0.5788 - val_loss: 0.7312 - val_accuracy: 0.5333\n",
            "Epoch 2/50\n",
            "36/36 [==============================] - ETA: 0s - loss: 0.6989 - accuracy: 0.6133\n",
            "Epoch 2: val_accuracy did not improve from 0.53333\n",
            "36/36 [==============================] - 170s 5s/step - loss: 0.6989 - accuracy: 0.6133 - val_loss: 0.7020 - val_accuracy: 0.5167\n",
            "Epoch 3/50\n",
            "36/36 [==============================] - ETA: 0s - loss: 0.6875 - accuracy: 0.6133\n",
            "Epoch 3: val_accuracy improved from 0.53333 to 0.55000, saving model to bestmodel.keras\n",
            "36/36 [==============================] - 168s 5s/step - loss: 0.6875 - accuracy: 0.6133 - val_loss: 0.6968 - val_accuracy: 0.5500\n",
            "Epoch 4/50\n",
            "36/36 [==============================] - ETA: 0s - loss: 0.6753 - accuracy: 0.6239\n",
            "Epoch 4: val_accuracy improved from 0.55000 to 0.56667, saving model to bestmodel.keras\n",
            "36/36 [==============================] - 172s 5s/step - loss: 0.6753 - accuracy: 0.6239 - val_loss: 0.6773 - val_accuracy: 0.5667\n",
            "Epoch 5/50\n",
            "36/36 [==============================] - ETA: 0s - loss: 0.6662 - accuracy: 0.6142\n",
            "Epoch 5: val_accuracy did not improve from 0.56667\n",
            "36/36 [==============================] - 164s 5s/step - loss: 0.6662 - accuracy: 0.6142 - val_loss: 0.6937 - val_accuracy: 0.5667\n",
            "Epoch 6/50\n",
            "36/36 [==============================] - ETA: 0s - loss: 0.6743 - accuracy: 0.6115\n",
            "Epoch 6: val_accuracy did not improve from 0.56667\n",
            "36/36 [==============================] - 166s 5s/step - loss: 0.6743 - accuracy: 0.6115 - val_loss: 0.6853 - val_accuracy: 0.5667\n",
            "Epoch 7/50\n",
            "36/36 [==============================] - ETA: 0s - loss: 0.6509 - accuracy: 0.6416\n",
            "Epoch 7: val_accuracy did not improve from 0.56667\n",
            "36/36 [==============================] - 167s 5s/step - loss: 0.6509 - accuracy: 0.6416 - val_loss: 0.6821 - val_accuracy: 0.5667\n",
            "Epoch 8/50\n",
            "36/36 [==============================] - ETA: 0s - loss: 0.6573 - accuracy: 0.6186\n",
            "Epoch 8: val_accuracy improved from 0.56667 to 0.58333, saving model to bestmodel.keras\n",
            "36/36 [==============================] - 170s 5s/step - loss: 0.6573 - accuracy: 0.6186 - val_loss: 0.6930 - val_accuracy: 0.5833\n",
            "Epoch 9/50\n",
            "36/36 [==============================] - ETA: 0s - loss: 0.6544 - accuracy: 0.6310\n",
            "Epoch 9: val_accuracy did not improve from 0.58333\n",
            "36/36 [==============================] - 168s 5s/step - loss: 0.6544 - accuracy: 0.6310 - val_loss: 0.6715 - val_accuracy: 0.5750\n",
            "Epoch 10/50\n",
            "36/36 [==============================] - ETA: 0s - loss: 0.6213 - accuracy: 0.6504\n",
            "Epoch 10: val_accuracy did not improve from 0.58333\n",
            "36/36 [==============================] - 165s 5s/step - loss: 0.6213 - accuracy: 0.6504 - val_loss: 0.6852 - val_accuracy: 0.5833\n",
            "Epoch 11/50\n",
            "36/36 [==============================] - ETA: 0s - loss: 0.6482 - accuracy: 0.6248\n",
            "Epoch 11: val_accuracy did not improve from 0.58333\n",
            "36/36 [==============================] - 171s 5s/step - loss: 0.6482 - accuracy: 0.6248 - val_loss: 0.7024 - val_accuracy: 0.5750\n",
            "Epoch 12/50\n",
            "36/36 [==============================] - ETA: 0s - loss: 0.6237 - accuracy: 0.6487\n",
            "Epoch 12: val_accuracy did not improve from 0.58333\n",
            "36/36 [==============================] - 164s 5s/step - loss: 0.6237 - accuracy: 0.6487 - val_loss: 0.6858 - val_accuracy: 0.5583\n",
            "Epoch 13/50\n",
            "36/36 [==============================] - ETA: 0s - loss: 0.6379 - accuracy: 0.6522\n",
            "Epoch 13: val_accuracy did not improve from 0.58333\n",
            "36/36 [==============================] - 163s 5s/step - loss: 0.6379 - accuracy: 0.6522 - val_loss: 0.6954 - val_accuracy: 0.5750\n",
            "Epoch 14/50\n",
            "36/36 [==============================] - ETA: 0s - loss: 0.6467 - accuracy: 0.6381\n",
            "Epoch 14: val_accuracy improved from 0.58333 to 0.60000, saving model to bestmodel.keras\n",
            "36/36 [==============================] - 171s 5s/step - loss: 0.6467 - accuracy: 0.6381 - val_loss: 0.6722 - val_accuracy: 0.6000\n",
            "Epoch 15/50\n",
            "36/36 [==============================] - ETA: 0s - loss: 0.6192 - accuracy: 0.6752\n",
            "Epoch 15: val_accuracy did not improve from 0.60000\n",
            "36/36 [==============================] - 166s 5s/step - loss: 0.6192 - accuracy: 0.6752 - val_loss: 0.6944 - val_accuracy: 0.5750\n",
            "Epoch 16/50\n",
            "36/36 [==============================] - ETA: 0s - loss: 0.6172 - accuracy: 0.6531\n",
            "Epoch 16: val_accuracy did not improve from 0.60000\n",
            "36/36 [==============================] - 164s 5s/step - loss: 0.6172 - accuracy: 0.6531 - val_loss: 0.6748 - val_accuracy: 0.5917\n",
            "Epoch 17/50\n",
            "36/36 [==============================] - ETA: 0s - loss: 0.5982 - accuracy: 0.6761\n",
            "Epoch 17: val_accuracy did not improve from 0.60000\n",
            "36/36 [==============================] - 170s 5s/step - loss: 0.5982 - accuracy: 0.6761 - val_loss: 0.6724 - val_accuracy: 0.5583\n",
            "Epoch 18/50\n",
            "36/36 [==============================] - ETA: 0s - loss: 0.6138 - accuracy: 0.6655\n",
            "Epoch 18: val_accuracy did not improve from 0.60000\n",
            "36/36 [==============================] - 165s 5s/step - loss: 0.6138 - accuracy: 0.6655 - val_loss: 0.6842 - val_accuracy: 0.5917\n",
            "Epoch 19/50\n",
            "36/36 [==============================] - ETA: 0s - loss: 0.6131 - accuracy: 0.6805\n",
            "Epoch 19: val_accuracy improved from 0.60000 to 0.61667, saving model to bestmodel.keras\n",
            "36/36 [==============================] - 171s 5s/step - loss: 0.6131 - accuracy: 0.6805 - val_loss: 0.6502 - val_accuracy: 0.6167\n",
            "Epoch 20/50\n",
            "36/36 [==============================] - ETA: 0s - loss: 0.5949 - accuracy: 0.6938\n",
            "Epoch 20: val_accuracy did not improve from 0.61667\n",
            "36/36 [==============================] - 167s 5s/step - loss: 0.5949 - accuracy: 0.6938 - val_loss: 0.6836 - val_accuracy: 0.5750\n",
            "Epoch 21/50\n",
            "36/36 [==============================] - ETA: 0s - loss: 0.5933 - accuracy: 0.6779\n",
            "Epoch 21: val_accuracy did not improve from 0.61667\n",
            "36/36 [==============================] - 169s 5s/step - loss: 0.5933 - accuracy: 0.6779 - val_loss: 0.6884 - val_accuracy: 0.5833\n",
            "Epoch 22/50\n",
            "36/36 [==============================] - ETA: 0s - loss: 0.6137 - accuracy: 0.6664\n",
            "Epoch 22: val_accuracy did not improve from 0.61667\n",
            "36/36 [==============================] - 171s 5s/step - loss: 0.6137 - accuracy: 0.6664 - val_loss: 0.6680 - val_accuracy: 0.5917\n",
            "Epoch 23/50\n",
            "36/36 [==============================] - ETA: 0s - loss: 0.5917 - accuracy: 0.6850\n",
            "Epoch 23: val_accuracy did not improve from 0.61667\n",
            "36/36 [==============================] - 170s 5s/step - loss: 0.5917 - accuracy: 0.6850 - val_loss: 0.6661 - val_accuracy: 0.6000\n",
            "Epoch 24/50\n",
            "36/36 [==============================] - ETA: 0s - loss: 0.5788 - accuracy: 0.7000\n",
            "Epoch 24: val_accuracy did not improve from 0.61667\n",
            "36/36 [==============================] - 164s 5s/step - loss: 0.5788 - accuracy: 0.7000 - val_loss: 0.6613 - val_accuracy: 0.6000\n",
            "Epoch 25/50\n",
            "36/36 [==============================] - ETA: 0s - loss: 0.6030 - accuracy: 0.6761\n",
            "Epoch 25: val_accuracy did not improve from 0.61667\n",
            "36/36 [==============================] - 168s 5s/step - loss: 0.6030 - accuracy: 0.6761 - val_loss: 0.6715 - val_accuracy: 0.5833\n",
            "Epoch 26/50\n",
            "36/36 [==============================] - ETA: 0s - loss: 0.5733 - accuracy: 0.7088\n",
            "Epoch 26: val_accuracy did not improve from 0.61667\n",
            "36/36 [==============================] - 170s 5s/step - loss: 0.5733 - accuracy: 0.7088 - val_loss: 0.6563 - val_accuracy: 0.6083\n",
            "Epoch 27/50\n",
            "36/36 [==============================] - ETA: 0s - loss: 0.5800 - accuracy: 0.7018\n",
            "Epoch 27: val_accuracy did not improve from 0.61667\n",
            "36/36 [==============================] - 173s 5s/step - loss: 0.5800 - accuracy: 0.7018 - val_loss: 0.6721 - val_accuracy: 0.6083\n",
            "Epoch 28/50\n",
            "36/36 [==============================] - ETA: 0s - loss: 0.5789 - accuracy: 0.6912\n",
            "Epoch 28: val_accuracy did not improve from 0.61667\n",
            "36/36 [==============================] - 174s 5s/step - loss: 0.5789 - accuracy: 0.6912 - val_loss: 0.6796 - val_accuracy: 0.5917\n",
            "Epoch 29/50\n",
            "36/36 [==============================] - ETA: 0s - loss: 0.5782 - accuracy: 0.6965\n",
            "Epoch 29: val_accuracy did not improve from 0.61667\n",
            "36/36 [==============================] - 173s 5s/step - loss: 0.5782 - accuracy: 0.6965 - val_loss: 0.6630 - val_accuracy: 0.5917\n",
            "Epoch 30/50\n",
            "36/36 [==============================] - ETA: 0s - loss: 0.5587 - accuracy: 0.7230\n",
            "Epoch 30: val_accuracy did not improve from 0.61667\n",
            "36/36 [==============================] - 174s 5s/step - loss: 0.5587 - accuracy: 0.7230 - val_loss: 0.6815 - val_accuracy: 0.5417\n",
            "Epoch 31/50\n",
            "36/36 [==============================] - ETA: 0s - loss: 0.5550 - accuracy: 0.7195\n",
            "Epoch 31: val_accuracy did not improve from 0.61667\n",
            "36/36 [==============================] - 176s 5s/step - loss: 0.5550 - accuracy: 0.7195 - val_loss: 0.6656 - val_accuracy: 0.6000\n",
            "Epoch 32/50\n",
            "36/36 [==============================] - ETA: 0s - loss: 0.5638 - accuracy: 0.7080\n",
            "Epoch 32: val_accuracy did not improve from 0.61667\n",
            "36/36 [==============================] - 171s 5s/step - loss: 0.5638 - accuracy: 0.7080 - val_loss: 0.6729 - val_accuracy: 0.5750\n",
            "Epoch 33/50\n",
            "36/36 [==============================] - ETA: 0s - loss: 0.5587 - accuracy: 0.7177\n",
            "Epoch 33: val_accuracy did not improve from 0.61667\n",
            "36/36 [==============================] - 172s 5s/step - loss: 0.5587 - accuracy: 0.7177 - val_loss: 0.6761 - val_accuracy: 0.6000\n",
            "Epoch 34/50\n",
            "36/36 [==============================] - ETA: 0s - loss: 0.5497 - accuracy: 0.7177\n",
            "Epoch 34: val_accuracy did not improve from 0.61667\n",
            "36/36 [==============================] - 173s 5s/step - loss: 0.5497 - accuracy: 0.7177 - val_loss: 0.6825 - val_accuracy: 0.6000\n",
            "Epoch 35/50\n",
            "36/36 [==============================] - ETA: 0s - loss: 0.5515 - accuracy: 0.7027\n",
            "Epoch 35: val_accuracy did not improve from 0.61667\n",
            "36/36 [==============================] - 174s 5s/step - loss: 0.5515 - accuracy: 0.7027 - val_loss: 0.6883 - val_accuracy: 0.5500\n",
            "Epoch 36/50\n",
            "36/36 [==============================] - ETA: 0s - loss: 0.5646 - accuracy: 0.7239\n",
            "Epoch 36: val_accuracy did not improve from 0.61667\n",
            "36/36 [==============================] - 171s 5s/step - loss: 0.5646 - accuracy: 0.7239 - val_loss: 0.6609 - val_accuracy: 0.5917\n",
            "Epoch 37/50\n",
            "36/36 [==============================] - ETA: 0s - loss: 0.5237 - accuracy: 0.7469\n",
            "Epoch 37: val_accuracy did not improve from 0.61667\n",
            "36/36 [==============================] - 171s 5s/step - loss: 0.5237 - accuracy: 0.7469 - val_loss: 0.6774 - val_accuracy: 0.6000\n",
            "Epoch 38/50\n",
            "36/36 [==============================] - ETA: 0s - loss: 0.5370 - accuracy: 0.7372\n",
            "Epoch 38: val_accuracy did not improve from 0.61667\n",
            "36/36 [==============================] - 170s 5s/step - loss: 0.5370 - accuracy: 0.7372 - val_loss: 0.6712 - val_accuracy: 0.5750\n",
            "Epoch 39/50\n",
            "36/36 [==============================] - ETA: 0s - loss: 0.5395 - accuracy: 0.7212\n",
            "Epoch 39: val_accuracy did not improve from 0.61667\n",
            "36/36 [==============================] - 171s 5s/step - loss: 0.5395 - accuracy: 0.7212 - val_loss: 0.6699 - val_accuracy: 0.5750\n",
            "Epoch 40/50\n",
            "36/36 [==============================] - ETA: 0s - loss: 0.5458 - accuracy: 0.7204\n",
            "Epoch 40: val_accuracy did not improve from 0.61667\n",
            "36/36 [==============================] - 170s 5s/step - loss: 0.5458 - accuracy: 0.7204 - val_loss: 0.6793 - val_accuracy: 0.5917\n",
            "Epoch 41/50\n",
            "36/36 [==============================] - ETA: 0s - loss: 0.5388 - accuracy: 0.7150\n",
            "Epoch 41: val_accuracy did not improve from 0.61667\n",
            "36/36 [==============================] - 174s 5s/step - loss: 0.5388 - accuracy: 0.7150 - val_loss: 0.6856 - val_accuracy: 0.5833\n",
            "Epoch 42/50\n",
            "36/36 [==============================] - ETA: 0s - loss: 0.5249 - accuracy: 0.7319\n",
            "Epoch 42: val_accuracy did not improve from 0.61667\n",
            "36/36 [==============================] - 175s 5s/step - loss: 0.5249 - accuracy: 0.7319 - val_loss: 0.7141 - val_accuracy: 0.5500\n",
            "Epoch 43/50\n",
            "36/36 [==============================] - ETA: 0s - loss: 0.5341 - accuracy: 0.7257\n",
            "Epoch 43: val_accuracy did not improve from 0.61667\n",
            "36/36 [==============================] - 169s 5s/step - loss: 0.5341 - accuracy: 0.7257 - val_loss: 0.6685 - val_accuracy: 0.5917\n",
            "Epoch 44/50\n",
            "36/36 [==============================] - ETA: 0s - loss: 0.5197 - accuracy: 0.7425\n",
            "Epoch 44: val_accuracy improved from 0.61667 to 0.63333, saving model to bestmodel.keras\n",
            "36/36 [==============================] - 171s 5s/step - loss: 0.5197 - accuracy: 0.7425 - val_loss: 0.6774 - val_accuracy: 0.6333\n",
            "Epoch 45/50\n",
            "36/36 [==============================] - ETA: 0s - loss: 0.5271 - accuracy: 0.7327\n",
            "Epoch 45: val_accuracy improved from 0.63333 to 0.64167, saving model to bestmodel.keras\n",
            "36/36 [==============================] - 169s 5s/step - loss: 0.5271 - accuracy: 0.7327 - val_loss: 0.6692 - val_accuracy: 0.6417\n",
            "Epoch 46/50\n",
            "36/36 [==============================] - ETA: 0s - loss: 0.5323 - accuracy: 0.7301\n",
            "Epoch 46: val_accuracy did not improve from 0.64167\n",
            "36/36 [==============================] - 168s 5s/step - loss: 0.5323 - accuracy: 0.7301 - val_loss: 0.7005 - val_accuracy: 0.5917\n",
            "Epoch 47/50\n",
            "36/36 [==============================] - ETA: 0s - loss: 0.5008 - accuracy: 0.7513\n",
            "Epoch 47: val_accuracy did not improve from 0.64167\n",
            "36/36 [==============================] - 167s 5s/step - loss: 0.5008 - accuracy: 0.7513 - val_loss: 0.6923 - val_accuracy: 0.5583\n",
            "Epoch 48/50\n",
            "36/36 [==============================] - ETA: 0s - loss: 0.5264 - accuracy: 0.7336\n",
            "Epoch 48: val_accuracy did not improve from 0.64167\n",
            "36/36 [==============================] - 171s 5s/step - loss: 0.5264 - accuracy: 0.7336 - val_loss: 0.6746 - val_accuracy: 0.6000\n",
            "Epoch 49/50\n",
            "36/36 [==============================] - ETA: 0s - loss: 0.5112 - accuracy: 0.7434\n",
            "Epoch 49: val_accuracy did not improve from 0.64167\n",
            "36/36 [==============================] - 171s 5s/step - loss: 0.5112 - accuracy: 0.7434 - val_loss: 0.7061 - val_accuracy: 0.5667\n",
            "Epoch 50/50\n",
            "36/36 [==============================] - ETA: 0s - loss: 0.5218 - accuracy: 0.7469\n",
            "Epoch 50: val_accuracy did not improve from 0.64167\n",
            "36/36 [==============================] - 174s 5s/step - loss: 0.5218 - accuracy: 0.7469 - val_loss: 0.6864 - val_accuracy: 0.5917\n"
          ]
        }
      ]
    },
    {
      "cell_type": "markdown",
      "source": [],
      "metadata": {
        "id": "1CXtRdauP3Mt"
      },
      "id": "1CXtRdauP3Mt"
    },
    {
      "cell_type": "code",
      "source": [
        " # Evaluate the model\n",
        "predictions_valid = model.predict([coronal_mensicus_val, sagittal_mensicus_val], batch_size=batch_size, verbose=1)\n",
        "score = log_loss(coronal_mensicus_label_val, predictions_valid)\n",
        "\n",
        "print(f\"Log Loss: {score}\")\n",
        "model.summary()"
      ],
      "metadata": {
        "colab": {
          "base_uri": "https://localhost:8080/"
        },
        "id": "lL8vG41LmzaO",
        "outputId": "6c9585a0-c4e0-413b-9567-176f5eb957ad"
      },
      "id": "lL8vG41LmzaO",
      "execution_count": 13,
      "outputs": [
        {
          "output_type": "stream",
          "name": "stdout",
          "text": [
            "4/4 [==============================] - 7s 1s/step\n",
            "Log Loss: 0.6864022907621987\n",
            "Model: \"model\"\n",
            "__________________________________________________________________________________________________\n",
            " Layer (type)                Output Shape                 Param #   Connected to                  \n",
            "==================================================================================================\n",
            " input_coronal (InputLayer)  [(None, 256, 256, 17)]       0         []                            \n",
            "                                                                                                  \n",
            " input_sagittal (InputLayer  [(None, 256, 256, 17)]       0         []                            \n",
            " )                                                                                                \n",
            "                                                                                                  \n",
            " conv2d (Conv2D)             (None, 256, 256, 3)          462       ['input_coronal[0][0]']       \n",
            "                                                                                                  \n",
            " conv2d_1 (Conv2D)           (None, 256, 256, 3)          462       ['input_sagittal[0][0]']      \n",
            "                                                                                                  \n",
            " densenet121 (Functional)    (None, 8, 8, 1024)           7037504   ['conv2d[0][0]',              \n",
            "                                                                     'conv2d_1[0][0]']            \n",
            "                                                                                                  \n",
            " global_average_pooling2d (  (None, 1024)                 0         ['densenet121[0][0]']         \n",
            " GlobalAveragePooling2D)                                                                          \n",
            "                                                                                                  \n",
            " global_average_pooling2d_1  (None, 1024)                 0         ['densenet121[1][0]']         \n",
            "  (GlobalAveragePooling2D)                                                                        \n",
            "                                                                                                  \n",
            " concatenate (Concatenate)   (None, 2048)                 0         ['global_average_pooling2d[0][\n",
            "                                                                    0]',                          \n",
            "                                                                     'global_average_pooling2d_1[0\n",
            "                                                                    ][0]']                        \n",
            "                                                                                                  \n",
            " batch_normalization (Batch  (None, 2048)                 8192      ['concatenate[0][0]']         \n",
            " Normalization)                                                                                   \n",
            "                                                                                                  \n",
            " dropout (Dropout)           (None, 2048)                 0         ['batch_normalization[0][0]'] \n",
            "                                                                                                  \n",
            " dense (Dense)               (None, 1024)                 2098176   ['dropout[0][0]']             \n",
            "                                                                                                  \n",
            " dropout_1 (Dropout)         (None, 1024)                 0         ['dense[0][0]']               \n",
            "                                                                                                  \n",
            " dense_1 (Dense)             (None, 512)                  524800    ['dropout_1[0][0]']           \n",
            "                                                                                                  \n",
            " dense_2 (Dense)             (None, 1)                    513       ['dense_1[0][0]']             \n",
            "                                                                                                  \n",
            "==================================================================================================\n",
            "Total params: 9670109 (36.89 MB)\n",
            "Trainable params: 2628509 (10.03 MB)\n",
            "Non-trainable params: 7041600 (26.86 MB)\n",
            "__________________________________________________________________________________________________\n"
          ]
        }
      ]
    },
    {
      "cell_type": "markdown",
      "source": [
        "## Model evaluation"
      ],
      "metadata": {
        "id": "xIHT5WGPtcfY"
      },
      "id": "xIHT5WGPtcfY"
    },
    {
      "cell_type": "code",
      "source": [
        "#Evaluating Accuracy and Loss of the model\n",
        "%matplotlib inline\n",
        "acc=history.history['accuracy']\n",
        "val_acc=history.history['val_accuracy']\n",
        "loss=history.history['loss']\n",
        "val_loss=history.history['val_loss']\n",
        "\n",
        "epochs=range(len(acc)) #No. of epochs\n",
        "\n",
        "#Plot training and validation accuracy per epoch\n",
        "import matplotlib.pyplot as plt\n",
        "plt.figure(figsize=(10, 6))\n",
        "plt.plot(epochs,acc,'b',label='Training Accuracy')\n",
        "plt.plot(epochs,val_acc,'c',label='Validation Accuracy')\n",
        "plt.xlabel('Epochs')\n",
        "plt.ylabel('Accuracy')\n",
        "\n",
        "plt.title(f'Training and validation accuracy 2 Planes model')\n",
        "plt.grid(True)\n",
        "plt.legend()\n",
        "plt.savefig(f'Training and validation accuracy 2 Planes model.png')\n",
        "\n",
        "\n",
        "\n",
        "\n",
        "#Plot training and validation loss per epoch\n",
        "plt.figure(figsize=(10, 6))\n",
        "plt.plot(epochs,loss,'b',label='Training Loss')\n",
        "plt.plot(epochs,val_loss,'c',label='Validation Loss')\n",
        "\n",
        "\n",
        "plt.title(f'Training and validation loss 2 Planes model')\n",
        "plt.savefig(f'Training and validation loss 2 Planes model.png')\n",
        "plt.grid(True)\n",
        "plt.legend()\n",
        "\n",
        "plt.show()\n"
      ],
      "metadata": {
        "id": "Fz_rYc9pJqc0",
        "colab": {
          "base_uri": "https://localhost:8080/",
          "height": 1000
        },
        "outputId": "89453a20-4bc6-48ff-9790-9635be212ac8"
      },
      "id": "Fz_rYc9pJqc0",
      "execution_count": 14,
      "outputs": [
        {
          "output_type": "display_data",
          "data": {
            "text/plain": [
              "<Figure size 1000x600 with 1 Axes>"
            ],
            "image/png": "[encoded data removed]"
          },
          "metadata": {}
        },
        {
          "output_type": "display_data",
          "data": {
            "text/plain": [
              "<Figure size 1000x600 with 1 Axes>"
            ],
            "image/png": "[encoded data removed]"
          },
          "metadata": {}
        }
      ]
    },
    {
      "cell_type": "code",
      "source": [
        "import numpy as np\n",
        "from sklearn.metrics import precision_score, recall_score, accuracy_score\n",
        "\n",
        "# Threshold predictions: Convert probabilities to binary labels (0 or 1)\n",
        "threshold = 0.5\n",
        "predictions_valid_binary = (predictions_valid > threshold).astype(int)\n",
        "\n",
        "# Calculate accuracy\n",
        "acc = accuracy_score(coronal_mensicus_label_val, predictions_valid_binary)\n",
        "\n",
        "# Optionally, calculate precision and recall\n",
        "precision = precision_score(coronal_mensicus_label_val, predictions_valid_binary)\n",
        "\n",
        "recall = recall_score(coronal_mensicus_label_val, predictions_valid_binary)\n",
        "\n",
        "# Output the results\n",
        "print(f\"Accuracy: {acc}\")\n",
        "print(f\"Precision: {precision}\")\n",
        "print(f\"Recall: {recall}\")\n"
      ],
      "metadata": {
        "id": "uEbydYUjmn8w",
        "colab": {
          "base_uri": "https://localhost:8080/"
        },
        "outputId": "0142e8f8-a082-4f2b-be46-5052dc915f99"
      },
      "id": "uEbydYUjmn8w",
      "execution_count": 15,
      "outputs": [
        {
          "output_type": "stream",
          "name": "stdout",
          "text": [
            "Accuracy: 0.5916666666666667\n",
            "Precision: 0.5348837209302325\n",
            "Recall: 0.4423076923076923\n"
          ]
        }
      ]
    },
    {
      "cell_type": "code",
      "source": [
        "model.save(\"3PlanesDenseModel.keras\")\n",
        "from google.colab import files\n",
        "files.download('3PlanesDenseModel.keras')"
      ],
      "metadata": {
        "colab": {
          "base_uri": "https://localhost:8080/",
          "height": 17
        },
        "id": "xE_zY_0EUBrD",
        "outputId": "0b322eae-c07d-499c-e5cf-15be0b89fe08"
      },
      "id": "xE_zY_0EUBrD",
      "execution_count": 16,
      "outputs": [
        {
          "output_type": "display_data",
          "data": {
            "text/plain": [
              "<IPython.core.display.Javascript object>"
            ],
            "application/javascript": [
              "\n",
              "    async function download(id, filename, size) {\n",
              "      if (!google.colab.kernel.accessAllowed) {\n",
              "        return;\n",
              "      }\n",
              "      const div = document.createElement('div');\n",
              "      const label = document.createElement('label');\n",
              "      label.textContent = `Downloading \"${filename}\": `;\n",
              "      div.appendChild(label);\n",
              "      const progress = document.createElement('progress');\n",
              "      progress.max = size;\n",
              "      div.appendChild(progress);\n",
              "      document.body.appendChild(div);\n",
              "\n",
              "      const buffers = [];\n",
              "      let downloaded = 0;\n",
              "\n",
              "      const channel = await google.colab.kernel.comms.open(id);\n",
              "      // Send a message to notify the kernel that we're ready.\n",
              "      channel.send({})\n",
              "\n",
              "      for await (const message of channel.messages) {\n",
              "        // Send a message to notify the kernel that we're ready.\n",
              "        channel.send({})\n",
              "        if (message.buffers) {\n",
              "          for (const buffer of message.buffers) {\n",
              "            buffers.push(buffer);\n",
              "            downloaded += buffer.byteLength;\n",
              "            progress.value = downloaded;\n",
              "          }\n",
              "        }\n",
              "      }\n",
              "      const blob = new Blob(buffers, {type: 'application/binary'});\n",
              "      const a = document.createElement('a');\n",
              "      a.href = window.URL.createObjectURL(blob);\n",
              "      a.download = filename;\n",
              "      div.appendChild(a);\n",
              "      a.click();\n",
              "      div.remove();\n",
              "    }\n",
              "  "
            ]
          },
          "metadata": {}
        },
        {
          "output_type": "display_data",
          "data": {
            "text/plain": [
              "<IPython.core.display.Javascript object>"
            ],
            "application/javascript": [
              "download(\"download_7d6d3550-1e43-4da1-b350-3b510dbd8f3d\", \"3PlanesDenseModel.keras\", 50566559)"
            ]
          },
          "metadata": {}
        }
      ]
    },
    {
      "cell_type": "code",
      "source": [
        "files.download(\"Training and validation accuracy 2 Planes model.png\")\n",
        "files.download(\"Training and validation loss 2 Planes model.png\")"
      ],
      "metadata": {
        "colab": {
          "base_uri": "https://localhost:8080/",
          "height": 17
        },
        "id": "vlsiJfCBaymd",
        "outputId": "a08ae937-0760-449d-fe1f-2cad16428c79"
      },
      "id": "vlsiJfCBaymd",
      "execution_count": 17,
      "outputs": [
        {
          "output_type": "display_data",
          "data": {
            "text/plain": [
              "<IPython.core.display.Javascript object>"
            ],
            "application/javascript": [
              "\n",
              "    async function download(id, filename, size) {\n",
              "      if (!google.colab.kernel.accessAllowed) {\n",
              "        return;\n",
              "      }\n",
              "      const div = document.createElement('div');\n",
              "      const label = document.createElement('label');\n",
              "      label.textContent = `Downloading \"${filename}\": `;\n",
              "      div.appendChild(label);\n",
              "      const progress = document.createElement('progress');\n",
              "      progress.max = size;\n",
              "      div.appendChild(progress);\n",
              "      document.body.appendChild(div);\n",
              "\n",
              "      const buffers = [];\n",
              "      let downloaded = 0;\n",
              "\n",
              "      const channel = await google.colab.kernel.comms.open(id);\n",
              "      // Send a message to notify the kernel that we're ready.\n",
              "      channel.send({})\n",
              "\n",
              "      for await (const message of channel.messages) {\n",
              "        // Send a message to notify the kernel that we're ready.\n",
              "        channel.send({})\n",
              "        if (message.buffers) {\n",
              "          for (const buffer of message.buffers) {\n",
              "            buffers.push(buffer);\n",
              "            downloaded += buffer.byteLength;\n",
              "            progress.value = downloaded;\n",
              "          }\n",
              "        }\n",
              "      }\n",
              "      const blob = new Blob(buffers, {type: 'application/binary'});\n",
              "      const a = document.createElement('a');\n",
              "      a.href = window.URL.createObjectURL(blob);\n",
              "      a.download = filename;\n",
              "      div.appendChild(a);\n",
              "      a.click();\n",
              "      div.remove();\n",
              "    }\n",
              "  "
            ]
          },
          "metadata": {}
        },
        {
          "output_type": "display_data",
          "data": {
            "text/plain": [
              "<IPython.core.display.Javascript object>"
            ],
            "application/javascript": [
              "download(\"download_54d886d9-95e1-408f-8c4e-e7bf8325c71b\", \"Training and validation accuracy 2 Planes model.png\", 61391)"
            ]
          },
          "metadata": {}
        },
        {
          "output_type": "display_data",
          "data": {
            "text/plain": [
              "<IPython.core.display.Javascript object>"
            ],
            "application/javascript": [
              "\n",
              "    async function download(id, filename, size) {\n",
              "      if (!google.colab.kernel.accessAllowed) {\n",
              "        return;\n",
              "      }\n",
              "      const div = document.createElement('div');\n",
              "      const label = document.createElement('label');\n",
              "      label.textContent = `Downloading \"${filename}\": `;\n",
              "      div.appendChild(label);\n",
              "      const progress = document.createElement('progress');\n",
              "      progress.max = size;\n",
              "      div.appendChild(progress);\n",
              "      document.body.appendChild(div);\n",
              "\n",
              "      const buffers = [];\n",
              "      let downloaded = 0;\n",
              "\n",
              "      const channel = await google.colab.kernel.comms.open(id);\n",
              "      // Send a message to notify the kernel that we're ready.\n",
              "      channel.send({})\n",
              "\n",
              "      for await (const message of channel.messages) {\n",
              "        // Send a message to notify the kernel that we're ready.\n",
              "        channel.send({})\n",
              "        if (message.buffers) {\n",
              "          for (const buffer of message.buffers) {\n",
              "            buffers.push(buffer);\n",
              "            downloaded += buffer.byteLength;\n",
              "            progress.value = downloaded;\n",
              "          }\n",
              "        }\n",
              "      }\n",
              "      const blob = new Blob(buffers, {type: 'application/binary'});\n",
              "      const a = document.createElement('a');\n",
              "      a.href = window.URL.createObjectURL(blob);\n",
              "      a.download = filename;\n",
              "      div.appendChild(a);\n",
              "      a.click();\n",
              "      div.remove();\n",
              "    }\n",
              "  "
            ]
          },
          "metadata": {}
        },
        {
          "output_type": "display_data",
          "data": {
            "text/plain": [
              "<IPython.core.display.Javascript object>"
            ],
            "application/javascript": [
              "download(\"download_f0e2840c-d121-4a6b-ae0d-3a6045021d0c\", \"Training and validation loss 2 Planes model.png\", 49630)"
            ]
          },
          "metadata": {}
        }
      ]
    }
  ],
  "metadata": {
    "accelerator": "TPU",
    "colab": {
      "gpuType": "V28",
      "provenance": [],
      "machine_shape": "hm"
    },
    "kernelspec": {
      "display_name": "Python 3",
      "name": "python3"
    },
    "language_info": {
      "codemirror_mode": {
        "name": "ipython",
        "version": 3
      },
      "file_extension": ".py",
      "mimetype": "text/x-python",
      "name": "python",
      "nbconvert_exporter": "python",
      "pygments_lexer": "ipython3",
      "version": "3.8.8"
    },
    "toc": {
      "base_numbering": 1,
      "nav_menu": {},
      "number_sections": true,
      "sideBar": true,
      "skip_h1_title": false,
      "title_cell": "Table of Contents",
      "title_sidebar": "Contents",
      "toc_cell": false,
      "toc_position": {
        "height": "747px",
        "left": "279px",
        "top": "323.133px",
        "width": "364px"
      },
      "toc_section_display": true,
      "toc_window_display": true
    }
  },
  "nbformat": 4,
  "nbformat_minor": 5
}